{
 "cells": [
  {
   "cell_type": "markdown",
   "metadata": {},
   "source": [
    "# Spel zonder Spelelement\n",
    "\n",
    "Ontwikkeld met versies:\n",
    "- Python 3.11.6\n",
    "- Pandas 2.0.3\n",
    "- ipywidgets 8.1.2"
   ]
  },
  {
   "cell_type": "code",
   "execution_count": null,
   "metadata": {},
   "outputs": [],
   "source": [
    "# Imports\n",
    "import pandas as pd\n",
    "import random\n",
    "import itertools\n",
    "import ipywidgets as widgets"
   ]
  },
  {
   "cell_type": "markdown",
   "metadata": {},
   "source": [
    "## Class SpelZonderSpelelement"
   ]
  },
  {
   "cell_type": "code",
   "execution_count": null,
   "metadata": {},
   "outputs": [],
   "source": [
    "class SpelZonderSpelelement:\n",
    "\tDEFAULT_NAMES = ['Mawkmawk', 'Rap', 'Irun', 'Kurwa', 'Gerbood']\n",
    "\n",
    "\tdef __init__(self, seed=None, player_names=DEFAULT_NAMES):\n",
    "\t\tself.seed = seed\n",
    "\t\tself.player_names = player_names\n",
    "\t\tself.num_players = len(self.player_names)\n",
    "\t\tself.deck = self.create_deck()\n",
    "\t\tself.player_hands = self.deal_cards()\n",
    "\t\tself.played_cards = []\n",
    "\n",
    "\tdef create_deck(self):\n",
    "\t\trandom.seed(self.seed)\n",
    "\t\tranks = ['2', '3', '4', '5', '6', '7', '8', '9', '10', 'J', 'Q', 'K', 'A']\n",
    "\t\tsuits = ['Hearts', 'Diamonds', 'Clubs', 'Spades']\n",
    "\t\treturn list(itertools.product(ranks, suits))\n",
    "\n",
    "\tdef deal_cards(self):\n",
    "\t\trandom.shuffle(self.deck)\n",
    "\t\thands = [[] for _ in range(self.num_players)]\n",
    "\n",
    "\t\twhile self.deck:\n",
    "\t\t\tfor i in range(self.num_players):\n",
    "\t\t\t\tif self.deck:\n",
    "\t\t\t\t\tcard = self.deck.pop()\n",
    "\t\t\t\t\thands[i].append(card)\n",
    "\t\t\t\telse:\n",
    "\t\t\t\t\tbreak\n",
    "\t\treturn hands\n",
    "\t\n",
    "\tdef show_hands(self, number_of_cards=12):\n",
    "\t\treturn pd.DataFrame(self.player_hands, index=self.player_names).iloc[:, :number_of_cards+1]\n",
    "\n",
    "\tdef play_card(self, print_output=True):\n",
    "\t\tmax_card_index = []\n",
    "\t\tmax_rank = None\n",
    "\t\tplayer_name = None\n",
    "\t\tfor i in range(self.num_players):\n",
    "\t\t\t# Check if player has any cards left\n",
    "\t\t\tif self.player_hands[i]:\n",
    "\t\t\t\tcard = self.player_hands[i].pop(0)\n",
    "\t\t\t\tself.played_cards.append(card)\n",
    "\t\t\t\tif print_output:\n",
    "\t\t\t\t\tprint(f\"{self.player_names[i]} played {card[0]} of {card[1]}\")\n",
    "\t\t\t\trank_value = self.get_rank_value(card[0])\n",
    "\t\t\t\tif max_rank is None or rank_value > max_rank:\n",
    "\t\t\t\t\tmax_rank = rank_value\n",
    "\t\t\t\t\tmax_card_index = [i]\n",
    "\t\t\t\t\tplayer_name = self.player_names[i]\n",
    "\t\t\t\telif rank_value == max_rank:\n",
    "\t\t\t\t\tmax_card_index.append(i)\n",
    "\n",
    "\t\tif len(max_card_index) > 1:\n",
    "\t\t\tif print_output:\n",
    "\t\t\t\tprint(\"It's a draw! Drawing another card...\")\n",
    "\t\t\tfor i in max_card_index:\n",
    "\t\t\t\tif self.player_hands[i]:\n",
    "\t\t\t\t\tnew_card = self.player_hands[i].pop(0)\n",
    "\t\t\t\t\tif print_output:\n",
    "\t\t\t\t\t\tprint(f\"{self.player_names[i]} draws another card: {new_card[0]} of {new_card[1]}\")\n",
    "\t\t\t\t\tself.played_cards.append(new_card)\n",
    "\t\t\t\t\trank_value = self.get_rank_value(new_card[0])\n",
    "\t\t\t\t\tif rank_value > max_rank:\n",
    "\t\t\t\t\t\tmax_rank = rank_value\n",
    "\t\t\t\t\t\tplayer_name = self.player_names[i]\n",
    "\n",
    "\t\tif print_output:\n",
    "\t\t\tprint(f\"{player_name} wins! He receives {len(self.played_cards)} cards in his deck.\")\n",
    "\n",
    "\t\twinning_player_index = self.player_names.index(player_name)\n",
    "\t\tself.player_hands[winning_player_index].extend(self.played_cards)\n",
    "\t\tself.played_cards = []\n",
    "\n",
    "\tdef get_rank_value(self, rank):\n",
    "\t\tranks_values = {'2': 2, '3': 3, '4': 4, '5': 5, '6': 6, '7': 7, '8': 8, '9': 9, '10': 10, 'J': 11, 'Q': 12, 'K': 13, 'A': 14}\n",
    "\t\treturn ranks_values[rank]"
   ]
  },
  {
   "cell_type": "markdown",
   "metadata": {},
   "source": [
    "## Voorbeelden"
   ]
  },
  {
   "cell_type": "code",
   "execution_count": null,
   "metadata": {},
   "outputs": [],
   "source": [
    "# Example usage:\n",
    "game = SpelZonderSpelelement(seed=2) # player_names=[\"Aaa\", \"Bbb\", \"Ccc\", \"Ddd\"]) \n",
    "game.show_hands()"
   ]
  },
  {
   "cell_type": "code",
   "execution_count": null,
   "metadata": {},
   "outputs": [],
   "source": [
    "# Zoek naar een eerste hand met twee A's\n",
    "for seed in range(0, 100):\n",
    "\tgame_x = SpelZonderSpelelement(seed=seed)\n",
    "\tkaarten = []\n",
    "\tfor player in game_x.show_hands()[0]:\n",
    "\t\tkaarten.append(player[0])\n",
    "\t\n",
    "\tif kaarten.count('A') > 1:\n",
    "\t\tprint(seed)"
   ]
  },
  {
   "cell_type": "markdown",
   "metadata": {},
   "source": [
    "## Display"
   ]
  },
  {
   "cell_type": "code",
   "execution_count": null,
   "metadata": {},
   "outputs": [],
   "source": [
    "\n",
    "# Create buttons\n",
    "start_button = widgets.Button(description=\"Start Game\", button_style=\"success\", layout=widgets.Layout(width=\"150px\"))\n",
    "play_button = widgets.Button(description=\"Play Card\", disabled=True, button_style=\"info\", layout=widgets.Layout(width=\"150px\"))  # Initially disabled\n",
    "show_hands_button = widgets.Button(description=\"Show Hands\", disabled=True, button_style=\"info\", layout=widgets.Layout(width=\"150px\"))  # Initially disabled\n",
    "\n",
    "seed_input = widgets.IntText(value=2, description=\"Seed\", style={'description_width': 'initial'})\n",
    "\n",
    "output = widgets.Output()  # Apply CSS styling to the output\n",
    "\n",
    "# Define a callback function to handle start button click\n",
    "def on_start_button_click(b):\n",
    "    global game\n",
    "    game = SpelZonderSpelelement(seed=seed_input.value)  # Use the value from the seed input field\n",
    "    with output:\n",
    "        print(f\"Game initialized successfully with Seed {seed_input.value}!\")\n",
    "    # Change the text of the start button to \"Reset Game\"\n",
    "    start_button.description = \"Reset Game\"\n",
    "    start_button.button_style = \"danger\"\n",
    "    # Enable the play button and show hands button after the game is started\n",
    "    play_button.disabled = False\n",
    "    show_hands_button.disabled = False\n",
    "\n",
    "# Define a callback function to handle play button click\n",
    "def on_play_button_click(b):\n",
    "    global game\n",
    "    with output:\n",
    "        game.play_card()  # Execute play_card() function\n",
    "        print(\"\\n\")\n",
    "\n",
    "# Define a callback function to handle show hands button click\n",
    "def on_show_hands_button_click(b):\n",
    "    global game\n",
    "    with output:\n",
    "        hands_data = game.show_hands()  # Get hands data\n",
    "        # Create a Pandas DataFrame from the hands data\n",
    "        df = pd.DataFrame(hands_data)\n",
    "        # Display the DataFrame\n",
    "        display(df)\n",
    "        print(\"\\n\")\n",
    "\n",
    "# Attach the callback functions to the button click events\n",
    "start_button.on_click(on_start_button_click)\n",
    "play_button.on_click(on_play_button_click)\n",
    "show_hands_button.on_click(on_show_hands_button_click)\n",
    "\n",
    "# Display the buttons and outpu\n",
    "buttons_box = widgets.HBox([start_button, play_button, show_hands_button], layout=widgets.Layout(justify_content='space-around'))\n",
    "widgets.VBox([seed_input, buttons_box, output])\n"
   ]
  },
  {
   "cell_type": "markdown",
   "metadata": {},
   "source": [
    "## Simulaties"
   ]
  },
  {
   "cell_type": "code",
   "execution_count": null,
   "metadata": {},
   "outputs": [],
   "source": [
    "\n",
    "game_x = SpelZonderSpelelement(seed=2)\n",
    "\n",
    "aantal_spelers = 5\n",
    "for ronde in range(200):\n",
    "\tprint(f\"Ronde {ronde}\")\n",
    "\tgame_x.play_card(print_output=True)\n",
    "\t_aantal_spelers = sum(game.show_hands()[0] == game.show_hands()[0])\n",
    "\tif aantal_spelers > _aantal_spelers:\n",
    "\t\tprint(f\"Ronde {ronde + 1} - Aantal spelers {_aantal_spelers}.\")\n",
    "\taantal_spelers = _aantal_spelers\n",
    "\tif aantal_spelers == 2:\n",
    "\t\tbreak\t\n",
    "print(f\"Aantal rondes: {ronde + 1}\")"
   ]
  },
  {
   "cell_type": "code",
   "execution_count": null,
   "metadata": {},
   "outputs": [],
   "source": [
    "rounds_per_seed = []  # List to store (seed, rounds) tuples\n",
    "\n",
    "for s in range(100):\n",
    "    game_s = SpelZonderSpelelement(seed=s)\n",
    "    aantal_spelers = 5\n",
    "    rounds = 0\n",
    "\n",
    "    for ronde in range(100):\n",
    "        rounds += 1  # Increment rounds count for this seed\n",
    "        game_s.play_card(print_output=False)\n",
    "        _aantal_spelers = sum(game_s.show_hands()[0] == game_s.show_hands()[0])\n",
    "        if aantal_spelers > _aantal_spelers:\n",
    "            1\n",
    "            # print(f\"Ronde {ronde + 1} - Aantal spelers {_aantal_spelers}.\")\n",
    "        aantal_spelers = _aantal_spelers\n",
    "        if aantal_spelers == 2:\n",
    "            break\n",
    "\n",
    "    rounds_per_seed.append((s, rounds))\n",
    "\n",
    "# Create DataFrame\n",
    "df = pd.DataFrame(rounds_per_seed, columns=['seed', 'number_of_rounds'])\n",
    "df\n"
   ]
  },
  {
   "cell_type": "code",
   "execution_count": null,
   "metadata": {},
   "outputs": [],
   "source": [
    "df[\"number_of_rounds\"].idxmax()"
   ]
  },
  {
   "cell_type": "code",
   "execution_count": null,
   "metadata": {},
   "outputs": [],
   "source": [
    "df[\"number_of_rounds\"].hist()"
   ]
  }
 ],
 "metadata": {
  "kernelspec": {
   "display_name": "Python 3",
   "language": "python",
   "name": "python3"
  },
  "language_info": {
   "codemirror_mode": {
    "name": "ipython",
    "version": 3
   },
   "file_extension": ".py",
   "mimetype": "text/x-python",
   "name": "python",
   "nbconvert_exporter": "python",
   "pygments_lexer": "ipython3",
   "version": "3.11.6"
  }
 },
 "nbformat": 4,
 "nbformat_minor": 2
}
